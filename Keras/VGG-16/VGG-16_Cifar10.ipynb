{
 "cells": [
  {
   "cell_type": "markdown",
   "id": "10458a90",
   "metadata": {},
   "source": [
    "## Reference Annotation\n",
    "## https://github.com/sayakpaul/Transfer-Learning-with-CIFAR10"
   ]
  },
  {
   "cell_type": "code",
   "execution_count": 1,
   "id": "56b288ae",
   "metadata": {},
   "outputs": [],
   "source": [
    "# Pandas and Numpy for data structures and util fucntions\n",
    "import scipy as sp\n",
    "import numpy as np\n",
    "import pandas as pd\n",
    "from numpy.random import rand\n",
    "pd.options.display.max_colwidth = 600\n",
    "\n",
    "# Scikit Imports\n",
    "from sklearn import preprocessing\n",
    "from sklearn.metrics import roc_curve, auc, precision_recall_curve\n",
    "from sklearn.model_selection import train_test_split\n",
    "\n",
    "from model_evaluation_utils import get_metrics\n",
    "\n",
    "# Matplot Imports\n",
    "import matplotlib.pyplot as plt\n",
    "params = {'legend.fontsize': 'x-large',\n",
    "          'figure.figsize': (15, 5),\n",
    "          'axes.labelsize': 'x-large',\n",
    "          'axes.titlesize':'x-large',\n",
    "          'xtick.labelsize':'x-large',\n",
    "          'ytick.labelsize':'x-large'}\n",
    "\n",
    "plt.rcParams.update(params)\n",
    "%matplotlib inline\n",
    "\n",
    "# pandas display data frames as tables\n",
    "from IPython.display import display, HTML\n",
    "\n",
    "import warnings\n",
    "warnings.filterwarnings('ignore')"
   ]
  },
  {
   "cell_type": "code",
   "execution_count": 2,
   "id": "f36095ad",
   "metadata": {},
   "outputs": [],
   "source": [
    "import tensorflow as tf\n",
    "from keras import callbacks\n",
    "from keras import optimizers\n",
    "from keras.datasets import cifar10\n",
    "# from keras.engine import Model\n",
    "from keras import Model\n",
    "from tensorflow.keras.applications.vgg16 import VGG16\n",
    "from keras.layers import Dropout, Flatten, Dense, GlobalAveragePooling2D,BatchNormalization\n",
    "from keras.preprocessing.image import ImageDataGenerator\n",
    "from keras.utils import np_utils"
   ]
  },
  {
   "cell_type": "code",
   "execution_count": 3,
   "id": "a060fa99",
   "metadata": {},
   "outputs": [],
   "source": [
    "BATCH_SIZE = 32\n",
    "EPOCHS = 100\n",
    "NUM_CLASSES = 10\n",
    "LEARNING_RATE = 1e-4\n",
    "MOMENTUM = 0.9"
   ]
  },
  {
   "cell_type": "code",
   "execution_count": 4,
   "id": "c3a554e3",
   "metadata": {},
   "outputs": [],
   "source": [
    "(X_train, y_train), (X_test, y_test) = cifar10.load_data()"
   ]
  },
  {
   "cell_type": "code",
   "execution_count": 5,
   "id": "f33e22fb",
   "metadata": {},
   "outputs": [],
   "source": [
    "X_train, X_val, y_train, y_val = train_test_split(X_train, \n",
    "                                                  y_train, \n",
    "                                                  test_size=0.15, \n",
    "                                                  stratify=np.array(y_train), \n",
    "                                                  random_state=42)"
   ]
  },
  {
   "cell_type": "code",
   "execution_count": 6,
   "id": "b0547df4",
   "metadata": {},
   "outputs": [],
   "source": [
    "Y_train = np_utils.to_categorical(y_train, NUM_CLASSES)\n",
    "Y_val = np_utils.to_categorical(y_val, NUM_CLASSES)\n",
    "Y_test = np_utils.to_categorical(y_test, NUM_CLASSES)"
   ]
  },
  {
   "cell_type": "code",
   "execution_count": 7,
   "id": "cdc38f44",
   "metadata": {},
   "outputs": [],
   "source": [
    "# X_train = np.array([sp.misc.imresize(x, \n",
    "#                                      (48, 48)) for x in X_train])\n",
    "# X_val = np.array([sp.misc.imresize(x, \n",
    "#                                    (48, 48)) for x in X_val])\n",
    "# X_test = np.array([sp.misc.imresize(x, \n",
    "#                                     (48, 48)) for x in X_test])\n",
    "\n",
    "# imresize is deprecated! imresize is deprecated in SciPy 1.0.0, and will be removed in 1.3.0.\n",
    "# Use scikit-image instead\n",
    "from skimage.transform import resize\n",
    "X_train = np.array([resize(x, \n",
    "                                     (48, 48)) for x in X_train])\n",
    "X_val = np.array([resize(x, \n",
    "                                   (48, 48)) for x in X_val])\n",
    "X_test = np.array([resize(x, \n",
    "                                    (48, 48)) for x in X_test])"
   ]
  },
  {
   "cell_type": "code",
   "execution_count": 8,
   "id": "57c669b9",
   "metadata": {},
   "outputs": [
    {
     "name": "stderr",
     "output_type": "stream",
     "text": [
      "2021-10-05 17:16:17.934630: I tensorflow/stream_executor/cuda/cuda_gpu_executor.cc:937] successful NUMA node read from SysFS had negative value (-1), but there must be at least one NUMA node, so returning NUMA node zero\n",
      "2021-10-05 17:16:17.939431: I tensorflow/stream_executor/cuda/cuda_gpu_executor.cc:937] successful NUMA node read from SysFS had negative value (-1), but there must be at least one NUMA node, so returning NUMA node zero\n",
      "2021-10-05 17:16:17.939876: I tensorflow/stream_executor/cuda/cuda_gpu_executor.cc:937] successful NUMA node read from SysFS had negative value (-1), but there must be at least one NUMA node, so returning NUMA node zero\n",
      "2021-10-05 17:16:17.940709: I tensorflow/core/platform/cpu_feature_guard.cc:142] This TensorFlow binary is optimized with oneAPI Deep Neural Network Library (oneDNN) to use the following CPU instructions in performance-critical operations:  AVX2 FMA\n",
      "To enable them in other operations, rebuild TensorFlow with the appropriate compiler flags.\n",
      "2021-10-05 17:16:17.982936: I tensorflow/stream_executor/cuda/cuda_gpu_executor.cc:937] successful NUMA node read from SysFS had negative value (-1), but there must be at least one NUMA node, so returning NUMA node zero\n",
      "2021-10-05 17:16:17.983685: I tensorflow/stream_executor/cuda/cuda_gpu_executor.cc:937] successful NUMA node read from SysFS had negative value (-1), but there must be at least one NUMA node, so returning NUMA node zero\n",
      "2021-10-05 17:16:17.984173: I tensorflow/stream_executor/cuda/cuda_gpu_executor.cc:937] successful NUMA node read from SysFS had negative value (-1), but there must be at least one NUMA node, so returning NUMA node zero\n",
      "2021-10-05 17:16:18.220771: I tensorflow/stream_executor/cuda/cuda_gpu_executor.cc:937] successful NUMA node read from SysFS had negative value (-1), but there must be at least one NUMA node, so returning NUMA node zero\n",
      "2021-10-05 17:16:18.221078: I tensorflow/stream_executor/cuda/cuda_gpu_executor.cc:937] successful NUMA node read from SysFS had negative value (-1), but there must be at least one NUMA node, so returning NUMA node zero\n",
      "2021-10-05 17:16:18.221340: I tensorflow/stream_executor/cuda/cuda_gpu_executor.cc:937] successful NUMA node read from SysFS had negative value (-1), but there must be at least one NUMA node, so returning NUMA node zero\n",
      "2021-10-05 17:16:18.221586: I tensorflow/core/common_runtime/gpu/gpu_device.cc:1510] Created device /job:localhost/replica:0/task:0/device:GPU:0 with 10406 MB memory:  -> device: 0, name: NVIDIA GeForce GTX 1080 Ti, pci bus id: 0000:01:00.0, compute capability: 6.1\n"
     ]
    }
   ],
   "source": [
    "base_model = VGG16(weights='imagenet', \n",
    "                       include_top=False, \n",
    "                       input_shape=(48, 48, 3))"
   ]
  },
  {
   "cell_type": "code",
   "execution_count": 9,
   "id": "bc4ad548",
   "metadata": {},
   "outputs": [],
   "source": [
    "# Extract the last layer from third block of vgg16 model\n",
    "last = base_model.get_layer('block3_pool').output"
   ]
  },
  {
   "cell_type": "code",
   "execution_count": 10,
   "id": "f9dab46f",
   "metadata": {},
   "outputs": [],
   "source": [
    "# Add classification layers on top of it\n",
    "x = GlobalAveragePooling2D()(last)\n",
    "x= BatchNormalization()(x)\n",
    "x = Dense(256, activation='relu')(x)\n",
    "x = Dense(256, activation='relu')(x)\n",
    "x = Dropout(0.6)(x)\n",
    "pred = Dense(NUM_CLASSES, activation='softmax')(x)\n",
    "model = Model(base_model.input, pred)"
   ]
  },
  {
   "cell_type": "code",
   "execution_count": 11,
   "id": "2e51eeda",
   "metadata": {},
   "outputs": [],
   "source": [
    "for layer in base_model.layers:\n",
    "     layer.trainable = False"
   ]
  },
  {
   "cell_type": "code",
   "execution_count": 12,
   "id": "5f070d1f",
   "metadata": {},
   "outputs": [],
   "source": [
    "model.compile(loss='binary_crossentropy',\n",
    "              optimizer=tf.keras.optimizers.Adam(lr=LEARNING_RATE),\n",
    "              metrics=['accuracy'])"
   ]
  },
  {
   "cell_type": "code",
   "execution_count": 13,
   "id": "2b0b78f0",
   "metadata": {},
   "outputs": [
    {
     "name": "stdout",
     "output_type": "stream",
     "text": [
      "Model: \"model\"\n",
      "_________________________________________________________________\n",
      "Layer (type)                 Output Shape              Param #   \n",
      "=================================================================\n",
      "input_1 (InputLayer)         [(None, 48, 48, 3)]       0         \n",
      "_________________________________________________________________\n",
      "block1_conv1 (Conv2D)        (None, 48, 48, 64)        1792      \n",
      "_________________________________________________________________\n",
      "block1_conv2 (Conv2D)        (None, 48, 48, 64)        36928     \n",
      "_________________________________________________________________\n",
      "block1_pool (MaxPooling2D)   (None, 24, 24, 64)        0         \n",
      "_________________________________________________________________\n",
      "block2_conv1 (Conv2D)        (None, 24, 24, 128)       73856     \n",
      "_________________________________________________________________\n",
      "block2_conv2 (Conv2D)        (None, 24, 24, 128)       147584    \n",
      "_________________________________________________________________\n",
      "block2_pool (MaxPooling2D)   (None, 12, 12, 128)       0         \n",
      "_________________________________________________________________\n",
      "block3_conv1 (Conv2D)        (None, 12, 12, 256)       295168    \n",
      "_________________________________________________________________\n",
      "block3_conv2 (Conv2D)        (None, 12, 12, 256)       590080    \n",
      "_________________________________________________________________\n",
      "block3_conv3 (Conv2D)        (None, 12, 12, 256)       590080    \n",
      "_________________________________________________________________\n",
      "block3_pool (MaxPooling2D)   (None, 6, 6, 256)         0         \n",
      "_________________________________________________________________\n",
      "global_average_pooling2d (Gl (None, 256)               0         \n",
      "_________________________________________________________________\n",
      "batch_normalization (BatchNo (None, 256)               1024      \n",
      "_________________________________________________________________\n",
      "dense (Dense)                (None, 256)               65792     \n",
      "_________________________________________________________________\n",
      "dense_1 (Dense)              (None, 256)               65792     \n",
      "_________________________________________________________________\n",
      "dropout (Dropout)            (None, 256)               0         \n",
      "_________________________________________________________________\n",
      "dense_2 (Dense)              (None, 10)                2570      \n",
      "=================================================================\n",
      "Total params: 1,870,666\n",
      "Trainable params: 134,666\n",
      "Non-trainable params: 1,736,000\n",
      "_________________________________________________________________\n"
     ]
    }
   ],
   "source": [
    "model.summary()"
   ]
  },
  {
   "cell_type": "code",
   "execution_count": 14,
   "id": "67f036fd",
   "metadata": {},
   "outputs": [],
   "source": [
    "# prepare data augmentation configuration\n",
    "train_datagen = ImageDataGenerator(\n",
    "    rescale=1. / 255,\n",
    "    horizontal_flip=False)"
   ]
  },
  {
   "cell_type": "code",
   "execution_count": 15,
   "id": "465800d9",
   "metadata": {},
   "outputs": [],
   "source": [
    "train_datagen.fit(X_train)\n",
    "train_generator = train_datagen.flow(X_train,\n",
    "                                     Y_train, \n",
    "                                     batch_size=BATCH_SIZE)"
   ]
  },
  {
   "cell_type": "code",
   "execution_count": 16,
   "id": "7cb4ec59",
   "metadata": {},
   "outputs": [],
   "source": [
    "val_datagen = ImageDataGenerator(rescale=1. / 255,\n",
    "    horizontal_flip=False)\n",
    "\n",
    "val_datagen.fit(X_val)\n",
    "val_generator = val_datagen.flow(X_val,\n",
    "                                 Y_val,\n",
    "                                 batch_size=BATCH_SIZE)"
   ]
  },
  {
   "cell_type": "code",
   "execution_count": 17,
   "id": "d8105c90",
   "metadata": {
    "scrolled": true
   },
   "outputs": [
    {
     "name": "stderr",
     "output_type": "stream",
     "text": [
      "2021-10-05 17:16:19.298656: I tensorflow/compiler/mlir/mlir_graph_optimization_pass.cc:185] None of the MLIR Optimization Passes are enabled (registered 2)\n"
     ]
    },
    {
     "name": "stdout",
     "output_type": "stream",
     "text": [
      "Epoch 1/100\n"
     ]
    },
    {
     "name": "stderr",
     "output_type": "stream",
     "text": [
      "2021-10-05 17:16:19.950453: I tensorflow/stream_executor/cuda/cuda_dnn.cc:369] Loaded cuDNN version 8204\n"
     ]
    },
    {
     "name": "stdout",
     "output_type": "stream",
     "text": [
      "1328/1328 [==============================] - 7s 4ms/step - loss: 0.3115 - accuracy: 0.2828 - val_loss: 0.2425 - val_accuracy: 0.4646\n",
      "Epoch 2/100\n",
      "1328/1328 [==============================] - 5s 4ms/step - loss: 0.2493 - accuracy: 0.4311 - val_loss: 0.2196 - val_accuracy: 0.5140\n",
      "Epoch 3/100\n",
      "1328/1328 [==============================] - 5s 4ms/step - loss: 0.2312 - accuracy: 0.4811 - val_loss: 0.2078 - val_accuracy: 0.5439\n",
      "Epoch 4/100\n",
      "1328/1328 [==============================] - 5s 4ms/step - loss: 0.2201 - accuracy: 0.5100 - val_loss: 0.1998 - val_accuracy: 0.5622\n",
      "Epoch 5/100\n",
      "1328/1328 [==============================] - 6s 4ms/step - loss: 0.2127 - accuracy: 0.5264 - val_loss: 0.1944 - val_accuracy: 0.5725\n",
      "Epoch 6/100\n",
      "1328/1328 [==============================] - 5s 4ms/step - loss: 0.2064 - accuracy: 0.5456 - val_loss: 0.1897 - val_accuracy: 0.5847\n",
      "Epoch 7/100\n",
      "1328/1328 [==============================] - 5s 4ms/step - loss: 0.2014 - accuracy: 0.5558 - val_loss: 0.1860 - val_accuracy: 0.5927\n",
      "Epoch 8/100\n",
      "1328/1328 [==============================] - 5s 4ms/step - loss: 0.1969 - accuracy: 0.5686 - val_loss: 0.1826 - val_accuracy: 0.5956\n",
      "Epoch 9/100\n",
      "1328/1328 [==============================] - 5s 4ms/step - loss: 0.1940 - accuracy: 0.5793 - val_loss: 0.1799 - val_accuracy: 0.6119\n",
      "Epoch 10/100\n",
      "1328/1328 [==============================] - 5s 4ms/step - loss: 0.1896 - accuracy: 0.5896 - val_loss: 0.1777 - val_accuracy: 0.6131\n",
      "Epoch 11/100\n",
      "1328/1328 [==============================] - 5s 4ms/step - loss: 0.1873 - accuracy: 0.5930 - val_loss: 0.1752 - val_accuracy: 0.6139\n",
      "Epoch 12/100\n",
      "1328/1328 [==============================] - 5s 4ms/step - loss: 0.1852 - accuracy: 0.5987 - val_loss: 0.1732 - val_accuracy: 0.6219\n",
      "Epoch 13/100\n",
      "1328/1328 [==============================] - 6s 4ms/step - loss: 0.1830 - accuracy: 0.6054 - val_loss: 0.1711 - val_accuracy: 0.6238\n",
      "Epoch 14/100\n",
      "1328/1328 [==============================] - 6s 4ms/step - loss: 0.1800 - accuracy: 0.6103 - val_loss: 0.1700 - val_accuracy: 0.6281\n",
      "Epoch 15/100\n",
      "1328/1328 [==============================] - 5s 4ms/step - loss: 0.1784 - accuracy: 0.6147 - val_loss: 0.1685 - val_accuracy: 0.6289\n",
      "Epoch 16/100\n",
      "1328/1328 [==============================] - 6s 4ms/step - loss: 0.1765 - accuracy: 0.6208 - val_loss: 0.1671 - val_accuracy: 0.6358\n",
      "Epoch 17/100\n",
      "1328/1328 [==============================] - 5s 4ms/step - loss: 0.1747 - accuracy: 0.6229 - val_loss: 0.1659 - val_accuracy: 0.6350\n",
      "Epoch 18/100\n",
      "1328/1328 [==============================] - 5s 4ms/step - loss: 0.1736 - accuracy: 0.6276 - val_loss: 0.1651 - val_accuracy: 0.6376\n",
      "Epoch 19/100\n",
      "1328/1328 [==============================] - 5s 4ms/step - loss: 0.1716 - accuracy: 0.6303 - val_loss: 0.1638 - val_accuracy: 0.6429\n",
      "Epoch 20/100\n",
      "1328/1328 [==============================] - 5s 4ms/step - loss: 0.1707 - accuracy: 0.6355 - val_loss: 0.1629 - val_accuracy: 0.6448\n",
      "Epoch 21/100\n",
      "1328/1328 [==============================] - 6s 4ms/step - loss: 0.1684 - accuracy: 0.6403 - val_loss: 0.1622 - val_accuracy: 0.6428\n",
      "Epoch 22/100\n",
      "1328/1328 [==============================] - 5s 4ms/step - loss: 0.1672 - accuracy: 0.6434 - val_loss: 0.1612 - val_accuracy: 0.6478\n",
      "Epoch 23/100\n",
      "1328/1328 [==============================] - 5s 4ms/step - loss: 0.1658 - accuracy: 0.6478 - val_loss: 0.1600 - val_accuracy: 0.6514\n",
      "Epoch 24/100\n",
      "1328/1328 [==============================] - 6s 4ms/step - loss: 0.1651 - accuracy: 0.6488 - val_loss: 0.1596 - val_accuracy: 0.6502\n",
      "Epoch 25/100\n",
      "1328/1328 [==============================] - 6s 4ms/step - loss: 0.1632 - accuracy: 0.6535 - val_loss: 0.1589 - val_accuracy: 0.6496\n",
      "Epoch 26/100\n",
      "1328/1328 [==============================] - 6s 4ms/step - loss: 0.1627 - accuracy: 0.6551 - val_loss: 0.1579 - val_accuracy: 0.6557\n",
      "Epoch 27/100\n",
      "1328/1328 [==============================] - 6s 4ms/step - loss: 0.1607 - accuracy: 0.6585 - val_loss: 0.1576 - val_accuracy: 0.6556\n",
      "Epoch 28/100\n",
      "1328/1328 [==============================] - 6s 4ms/step - loss: 0.1599 - accuracy: 0.6604 - val_loss: 0.1565 - val_accuracy: 0.6604\n",
      "Epoch 29/100\n",
      "1328/1328 [==============================] - 6s 4ms/step - loss: 0.1589 - accuracy: 0.6637 - val_loss: 0.1564 - val_accuracy: 0.6587\n",
      "Epoch 30/100\n",
      "1328/1328 [==============================] - 5s 4ms/step - loss: 0.1577 - accuracy: 0.6666 - val_loss: 0.1555 - val_accuracy: 0.6597\n",
      "Epoch 31/100\n",
      "1328/1328 [==============================] - 5s 4ms/step - loss: 0.1570 - accuracy: 0.6686 - val_loss: 0.1549 - val_accuracy: 0.6636\n",
      "Epoch 32/100\n",
      "1328/1328 [==============================] - 5s 4ms/step - loss: 0.1558 - accuracy: 0.6698 - val_loss: 0.1548 - val_accuracy: 0.6597\n",
      "Epoch 33/100\n",
      "1328/1328 [==============================] - 5s 4ms/step - loss: 0.1550 - accuracy: 0.6725 - val_loss: 0.1547 - val_accuracy: 0.6593\n",
      "Epoch 34/100\n",
      "1328/1328 [==============================] - 6s 4ms/step - loss: 0.1544 - accuracy: 0.6732 - val_loss: 0.1537 - val_accuracy: 0.6663\n",
      "Epoch 35/100\n",
      "1328/1328 [==============================] - 5s 4ms/step - loss: 0.1527 - accuracy: 0.6763 - val_loss: 0.1533 - val_accuracy: 0.6683\n",
      "Epoch 36/100\n",
      "1328/1328 [==============================] - 5s 4ms/step - loss: 0.1526 - accuracy: 0.6795 - val_loss: 0.1533 - val_accuracy: 0.6637\n",
      "Epoch 37/100\n",
      "1328/1328 [==============================] - 6s 4ms/step - loss: 0.1510 - accuracy: 0.6817 - val_loss: 0.1527 - val_accuracy: 0.6683\n",
      "Epoch 38/100\n",
      "1328/1328 [==============================] - 5s 4ms/step - loss: 0.1508 - accuracy: 0.6837 - val_loss: 0.1527 - val_accuracy: 0.6665\n",
      "Epoch 39/100\n",
      "1328/1328 [==============================] - 6s 4ms/step - loss: 0.1492 - accuracy: 0.6864 - val_loss: 0.1520 - val_accuracy: 0.6715\n",
      "Epoch 40/100\n",
      "1328/1328 [==============================] - 5s 4ms/step - loss: 0.1490 - accuracy: 0.6887 - val_loss: 0.1521 - val_accuracy: 0.6704\n",
      "Epoch 41/100\n",
      "1328/1328 [==============================] - 5s 4ms/step - loss: 0.1480 - accuracy: 0.6898 - val_loss: 0.1516 - val_accuracy: 0.6692\n",
      "Epoch 42/100\n",
      "1328/1328 [==============================] - 5s 4ms/step - loss: 0.1470 - accuracy: 0.6929 - val_loss: 0.1509 - val_accuracy: 0.6724\n",
      "Epoch 43/100\n",
      "1328/1328 [==============================] - 6s 4ms/step - loss: 0.1469 - accuracy: 0.6929 - val_loss: 0.1512 - val_accuracy: 0.6705\n",
      "Epoch 44/100\n",
      "1328/1328 [==============================] - 5s 4ms/step - loss: 0.1465 - accuracy: 0.6939 - val_loss: 0.1503 - val_accuracy: 0.6712\n",
      "Epoch 45/100\n",
      "1328/1328 [==============================] - 6s 4ms/step - loss: 0.1453 - accuracy: 0.6961 - val_loss: 0.1504 - val_accuracy: 0.6740\n",
      "Epoch 46/100\n",
      "1328/1328 [==============================] - 6s 4ms/step - loss: 0.1440 - accuracy: 0.6981 - val_loss: 0.1507 - val_accuracy: 0.6736\n",
      "Epoch 47/100\n",
      "1328/1328 [==============================] - 5s 4ms/step - loss: 0.1438 - accuracy: 0.7000 - val_loss: 0.1507 - val_accuracy: 0.6725\n",
      "Epoch 48/100\n",
      "1328/1328 [==============================] - 5s 4ms/step - loss: 0.1426 - accuracy: 0.7025 - val_loss: 0.1492 - val_accuracy: 0.6767\n",
      "Epoch 49/100\n",
      "1328/1328 [==============================] - 5s 4ms/step - loss: 0.1425 - accuracy: 0.7026 - val_loss: 0.1500 - val_accuracy: 0.6747\n",
      "Epoch 50/100\n",
      "1328/1328 [==============================] - 5s 4ms/step - loss: 0.1414 - accuracy: 0.7063 - val_loss: 0.1504 - val_accuracy: 0.6751\n",
      "Epoch 51/100\n",
      "1328/1328 [==============================] - 5s 4ms/step - loss: 0.1414 - accuracy: 0.7055 - val_loss: 0.1496 - val_accuracy: 0.6775\n",
      "Epoch 52/100\n",
      "1328/1328 [==============================] - 5s 4ms/step - loss: 0.1403 - accuracy: 0.7096 - val_loss: 0.1494 - val_accuracy: 0.6795\n",
      "Epoch 53/100\n",
      "1328/1328 [==============================] - 6s 4ms/step - loss: 0.1401 - accuracy: 0.7073 - val_loss: 0.1487 - val_accuracy: 0.6790\n",
      "Epoch 54/100\n",
      "1328/1328 [==============================] - 6s 4ms/step - loss: 0.1391 - accuracy: 0.7139 - val_loss: 0.1499 - val_accuracy: 0.6780\n",
      "Epoch 55/100\n",
      "1328/1328 [==============================] - 5s 4ms/step - loss: 0.1381 - accuracy: 0.7126 - val_loss: 0.1490 - val_accuracy: 0.6822\n",
      "Epoch 56/100\n",
      "1328/1328 [==============================] - 5s 4ms/step - loss: 0.1373 - accuracy: 0.7168 - val_loss: 0.1493 - val_accuracy: 0.6806\n",
      "Epoch 57/100\n",
      "1328/1328 [==============================] - 5s 4ms/step - loss: 0.1373 - accuracy: 0.7167 - val_loss: 0.1479 - val_accuracy: 0.6847\n",
      "Epoch 58/100\n",
      "1328/1328 [==============================] - 6s 4ms/step - loss: 0.1369 - accuracy: 0.7168 - val_loss: 0.1486 - val_accuracy: 0.6799\n",
      "Epoch 59/100\n",
      "1328/1328 [==============================] - 6s 4ms/step - loss: 0.1363 - accuracy: 0.7161 - val_loss: 0.1483 - val_accuracy: 0.6866\n",
      "Epoch 60/100\n",
      "1328/1328 [==============================] - 6s 4ms/step - loss: 0.1354 - accuracy: 0.7211 - val_loss: 0.1483 - val_accuracy: 0.6808\n",
      "Epoch 61/100\n",
      "1328/1328 [==============================] - 6s 4ms/step - loss: 0.1352 - accuracy: 0.7191 - val_loss: 0.1487 - val_accuracy: 0.6799\n",
      "Epoch 62/100\n",
      "1328/1328 [==============================] - 5s 4ms/step - loss: 0.1340 - accuracy: 0.7250 - val_loss: 0.1485 - val_accuracy: 0.6842\n",
      "Epoch 63/100\n",
      "1328/1328 [==============================] - 5s 4ms/step - loss: 0.1339 - accuracy: 0.7245 - val_loss: 0.1486 - val_accuracy: 0.6815\n",
      "Epoch 64/100\n",
      "1328/1328 [==============================] - 6s 4ms/step - loss: 0.1330 - accuracy: 0.7243 - val_loss: 0.1487 - val_accuracy: 0.6783\n",
      "Epoch 65/100\n",
      "1328/1328 [==============================] - 6s 4ms/step - loss: 0.1327 - accuracy: 0.7293 - val_loss: 0.1482 - val_accuracy: 0.6862\n",
      "Epoch 66/100\n",
      "1328/1328 [==============================] - 5s 4ms/step - loss: 0.1319 - accuracy: 0.7275 - val_loss: 0.1482 - val_accuracy: 0.6824\n",
      "Epoch 67/100\n",
      "1328/1328 [==============================] - 5s 4ms/step - loss: 0.1316 - accuracy: 0.7277 - val_loss: 0.1479 - val_accuracy: 0.6862\n",
      "Epoch 68/100\n",
      "1328/1328 [==============================] - 6s 4ms/step - loss: 0.1308 - accuracy: 0.7325 - val_loss: 0.1479 - val_accuracy: 0.6848\n",
      "Epoch 69/100\n",
      "1328/1328 [==============================] - 5s 4ms/step - loss: 0.1303 - accuracy: 0.7327 - val_loss: 0.1485 - val_accuracy: 0.6858\n",
      "Epoch 70/100\n",
      "1328/1328 [==============================] - 6s 4ms/step - loss: 0.1297 - accuracy: 0.7327 - val_loss: 0.1478 - val_accuracy: 0.6839\n",
      "Epoch 71/100\n",
      "1328/1328 [==============================] - 5s 4ms/step - loss: 0.1295 - accuracy: 0.7365 - val_loss: 0.1476 - val_accuracy: 0.6874\n",
      "Epoch 72/100\n",
      "1328/1328 [==============================] - 5s 4ms/step - loss: 0.1293 - accuracy: 0.7351 - val_loss: 0.1477 - val_accuracy: 0.6882\n",
      "Epoch 73/100\n",
      "1328/1328 [==============================] - 6s 4ms/step - loss: 0.1290 - accuracy: 0.7354 - val_loss: 0.1479 - val_accuracy: 0.6874\n",
      "Epoch 74/100\n",
      "1328/1328 [==============================] - 6s 4ms/step - loss: 0.1278 - accuracy: 0.7383 - val_loss: 0.1479 - val_accuracy: 0.6860\n",
      "Epoch 75/100\n",
      "1328/1328 [==============================] - 6s 4ms/step - loss: 0.1270 - accuracy: 0.7417 - val_loss: 0.1479 - val_accuracy: 0.6827\n",
      "Epoch 76/100\n",
      "1328/1328 [==============================] - 6s 4ms/step - loss: 0.1269 - accuracy: 0.7410 - val_loss: 0.1486 - val_accuracy: 0.6836\n",
      "Epoch 77/100\n",
      "1328/1328 [==============================] - 6s 4ms/step - loss: 0.1264 - accuracy: 0.7427 - val_loss: 0.1480 - val_accuracy: 0.6864\n",
      "Epoch 78/100\n",
      "1328/1328 [==============================] - 5s 4ms/step - loss: 0.1259 - accuracy: 0.7429 - val_loss: 0.1487 - val_accuracy: 0.6840\n",
      "Epoch 79/100\n",
      "1328/1328 [==============================] - 6s 4ms/step - loss: 0.1252 - accuracy: 0.7449 - val_loss: 0.1481 - val_accuracy: 0.6870\n",
      "Epoch 80/100\n",
      "1328/1328 [==============================] - 6s 4ms/step - loss: 0.1253 - accuracy: 0.7449 - val_loss: 0.1483 - val_accuracy: 0.6852\n",
      "Epoch 81/100\n",
      "1328/1328 [==============================] - 6s 4ms/step - loss: 0.1241 - accuracy: 0.7466 - val_loss: 0.1480 - val_accuracy: 0.6864\n",
      "Epoch 82/100\n",
      "1328/1328 [==============================] - 6s 4ms/step - loss: 0.1244 - accuracy: 0.7457 - val_loss: 0.1481 - val_accuracy: 0.6867\n",
      "Epoch 83/100\n",
      "1328/1328 [==============================] - 6s 4ms/step - loss: 0.1232 - accuracy: 0.7504 - val_loss: 0.1480 - val_accuracy: 0.6882\n",
      "Epoch 84/100\n",
      "1328/1328 [==============================] - 5s 4ms/step - loss: 0.1231 - accuracy: 0.7485 - val_loss: 0.1489 - val_accuracy: 0.6864\n",
      "Epoch 85/100\n",
      "1328/1328 [==============================] - 6s 4ms/step - loss: 0.1229 - accuracy: 0.7495 - val_loss: 0.1488 - val_accuracy: 0.6882\n",
      "Epoch 86/100\n",
      "1328/1328 [==============================] - 6s 4ms/step - loss: 0.1226 - accuracy: 0.7498 - val_loss: 0.1485 - val_accuracy: 0.6874\n",
      "Epoch 87/100\n",
      "1328/1328 [==============================] - 6s 4ms/step - loss: 0.1218 - accuracy: 0.7539 - val_loss: 0.1485 - val_accuracy: 0.6880\n",
      "Epoch 88/100\n",
      "1328/1328 [==============================] - 6s 4ms/step - loss: 0.1219 - accuracy: 0.7504 - val_loss: 0.1479 - val_accuracy: 0.6888\n",
      "Epoch 89/100\n",
      "1328/1328 [==============================] - 6s 4ms/step - loss: 0.1208 - accuracy: 0.7559 - val_loss: 0.1484 - val_accuracy: 0.6918\n",
      "Epoch 90/100\n",
      "1328/1328 [==============================] - 5s 4ms/step - loss: 0.1210 - accuracy: 0.7557 - val_loss: 0.1487 - val_accuracy: 0.6872\n",
      "Epoch 91/100\n",
      "1328/1328 [==============================] - 6s 4ms/step - loss: 0.1202 - accuracy: 0.7558 - val_loss: 0.1489 - val_accuracy: 0.6870\n",
      "Epoch 92/100\n",
      "1328/1328 [==============================] - 6s 4ms/step - loss: 0.1202 - accuracy: 0.7562 - val_loss: 0.1487 - val_accuracy: 0.6882\n",
      "Epoch 93/100\n",
      "1328/1328 [==============================] - 5s 4ms/step - loss: 0.1192 - accuracy: 0.7564 - val_loss: 0.1489 - val_accuracy: 0.6898\n",
      "Epoch 94/100\n",
      "1328/1328 [==============================] - 6s 4ms/step - loss: 0.1191 - accuracy: 0.7605 - val_loss: 0.1487 - val_accuracy: 0.6888\n",
      "Epoch 95/100\n",
      "1328/1328 [==============================] - 5s 4ms/step - loss: 0.1186 - accuracy: 0.7593 - val_loss: 0.1495 - val_accuracy: 0.6883\n",
      "Epoch 96/100\n",
      "1328/1328 [==============================] - 6s 4ms/step - loss: 0.1180 - accuracy: 0.7619 - val_loss: 0.1497 - val_accuracy: 0.6890\n",
      "Epoch 97/100\n",
      "1328/1328 [==============================] - 6s 4ms/step - loss: 0.1181 - accuracy: 0.7623 - val_loss: 0.1495 - val_accuracy: 0.6883\n",
      "Epoch 98/100\n",
      "1328/1328 [==============================] - 6s 4ms/step - loss: 0.1171 - accuracy: 0.7629 - val_loss: 0.1498 - val_accuracy: 0.6898\n",
      "Epoch 99/100\n",
      "1328/1328 [==============================] - 6s 4ms/step - loss: 0.1177 - accuracy: 0.7622 - val_loss: 0.1494 - val_accuracy: 0.6855\n",
      "Epoch 100/100\n",
      "1328/1328 [==============================] - 6s 4ms/step - loss: 0.1165 - accuracy: 0.7640 - val_loss: 0.1493 - val_accuracy: 0.6872\n"
     ]
    }
   ],
   "source": [
    "train_steps_per_epoch = X_train.shape[0] // BATCH_SIZE\n",
    "val_steps_per_epoch = X_val.shape[0] // BATCH_SIZE\n",
    "\n",
    "history = model.fit_generator(train_generator,\n",
    "                              steps_per_epoch=train_steps_per_epoch,\n",
    "                              validation_data=val_generator,\n",
    "                              validation_steps=val_steps_per_epoch,\n",
    "                              epochs=EPOCHS,\n",
    "                              verbose=1)"
   ]
  },
  {
   "cell_type": "code",
   "execution_count": 18,
   "id": "314308db",
   "metadata": {},
   "outputs": [
    {
     "data": {
      "image/png": "[encoded data removed]",
      "text/plain": [
       "<Figure size 1080x360 with 2 Axes>"
      ]
     },
     "metadata": {
      "needs_background": "light"
     },
     "output_type": "display_data"
    }
   ],
   "source": [
    "f, (ax1, ax2) = plt.subplots(1, 2, figsize=(15, 5))\n",
    "t = f.suptitle('Deep Neural Net Performance', fontsize=12)\n",
    "f.subplots_adjust(top=0.85, wspace=0.3)\n",
    "\n",
    "epochs = list(range(1,EPOCHS+1))\n",
    "ax1.plot(epochs, history.history['accuracy'], label='Train Accuracy')\n",
    "ax1.plot(epochs, history.history['val_accuracy'], label='Validation Accuracy')\n",
    "ax1.set_xticks(epochs)\n",
    "ax1.set_ylabel('Accuracy Value')\n",
    "ax1.set_xlabel('Epoch')\n",
    "ax1.set_title('Accuracy')\n",
    "l1 = ax1.legend(loc=\"best\")\n",
    "\n",
    "ax2.plot(epochs, history.history['loss'], label='Train Loss')\n",
    "ax2.plot(epochs, history.history['val_loss'], label='Validation Loss')\n",
    "ax2.set_xticks(epochs)\n",
    "ax2.set_ylabel('Loss Value')\n",
    "ax2.set_xlabel('Epoch')\n",
    "ax2.set_title('Loss')\n",
    "l2 = ax2.legend(loc=\"best\")"
   ]
  },
  {
   "cell_type": "code",
   "execution_count": 19,
   "id": "6c87a9fc",
   "metadata": {},
   "outputs": [],
   "source": [
    "predictions = model.predict(X_test/255.)"
   ]
  },
  {
   "cell_type": "code",
   "execution_count": 20,
   "id": "9e48d019",
   "metadata": {},
   "outputs": [],
   "source": [
    "test_labels = list(y_test.squeeze())\n",
    "predictions = list(predictions.argmax(axis=1))"
   ]
  },
  {
   "cell_type": "code",
   "execution_count": 21,
   "id": "48fb0cb1",
   "metadata": {},
   "outputs": [
    {
     "name": "stdout",
     "output_type": "stream",
     "text": [
      "Accuracy: 0.6892\n",
      "Precision: 0.6904\n",
      "Recall: 0.6892\n",
      "F1 Score: 0.6892\n"
     ]
    }
   ],
   "source": [
    "get_metrics(true_labels=y_test, \n",
    "                predicted_labels=predictions)"
   ]
  },
  {
   "cell_type": "code",
   "execution_count": 22,
   "id": "773ae313",
   "metadata": {},
   "outputs": [],
   "source": [
    "label_dict = {0:'airplane',\n",
    "             1:'automobile',\n",
    "             2:'bird',\n",
    "             3:'cat',\n",
    "             4:'deer',\n",
    "             5:'dog',\n",
    "             6:'frog',\n",
    "             7:'horse',\n",
    "             8:'ship',\n",
    "             9:'truck'}"
   ]
  },
  {
   "cell_type": "code",
   "execution_count": 23,
   "id": "565002d5",
   "metadata": {
    "scrolled": false
   },
   "outputs": [
    {
     "name": "stdout",
     "output_type": "stream",
     "text": [
      "[0. 0. 0. 1. 0. 0. 0. 0. 0. 0.]\n",
      "3\n",
      "[0. 0. 0. 0. 0. 0. 0. 0. 1. 0.]\n",
      "8\n",
      "[0. 0. 0. 0. 0. 0. 0. 0. 1. 0.]\n",
      "8\n",
      "[1. 0. 0. 0. 0. 0. 0. 0. 0. 0.]\n",
      "0\n",
      "[0. 0. 0. 0. 0. 0. 1. 0. 0. 0.]\n",
      "6\n",
      "[0. 0. 0. 0. 0. 0. 1. 0. 0. 0.]\n",
      "6\n",
      "[0. 1. 0. 0. 0. 0. 0. 0. 0. 0.]\n",
      "1\n",
      "[0. 0. 0. 0. 0. 0. 1. 0. 0. 0.]\n",
      "6\n",
      "[0. 0. 0. 1. 0. 0. 0. 0. 0. 0.]\n",
      "3\n",
      "[0. 1. 0. 0. 0. 0. 0. 0. 0. 0.]\n",
      "1\n"
     ]
    },
    {
     "data": {
      "image/png": "[encoded data removed]",
      "text/plain": [
       "<Figure size 432x288 with 1 Axes>"
      ]
     },
     "metadata": {
      "needs_background": "light"
     },
     "output_type": "display_data"
    }
   ],
   "source": [
    "for i in range(10):\n",
    "    plt.imshow(X_test[i])\n",
    "    print(Y_test[i])\n",
    "    print(predictions[i])"
   ]
  },
  {
   "cell_type": "code",
   "execution_count": null,
   "id": "149d1b9d",
   "metadata": {},
   "outputs": [],
   "source": []
  }
 ],
 "metadata": {
  "kernelspec": {
   "display_name": "Python 3 (ipykernel)",
   "language": "python",
   "name": "python3"
  },
  "language_info": {
   "codemirror_mode": {
    "name": "ipython",
    "version": 3
   },
   "file_extension": ".py",
   "mimetype": "text/x-python",
   "name": "python",
   "nbconvert_exporter": "python",
   "pygments_lexer": "ipython3",
   "version": "3.8.10"
  }
 },
 "nbformat": 4,
 "nbformat_minor": 5
}
